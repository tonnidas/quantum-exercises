{
  "nbformat": 4,
  "nbformat_minor": 0,
  "metadata": {
    "colab": {
      "name": "QN|B01>.ipynb",
      "provenance": [],
      "collapsed_sections": []
    },
    "kernelspec": {
      "name": "python3",
      "display_name": "Python 3"
    },
    "language_info": {
      "name": "python"
    }
  },
  "cells": [
    {
      "cell_type": "markdown",
      "metadata": {
        "id": "7gkSzh6ESrR7"
      },
      "source": [
        "# Qbit\n",
        "[License-badge]:https://img.shields.io/badge/License-CC-orange\n",
        "[license]:https://creativecommons.org/licenses/by-nc-sa/3.0/deed.en\n",
        "[![CC License][License-badge]][license]\n",
        "\n"
      ]
    },
    {
      "cell_type": "markdown",
      "metadata": {
        "id": "ZrvdGe8bSFRK"
      },
      "source": [
        "# $\\LaTeX$ implementation\n",
        "<table width=\"100%\"><tr><td style=\"color:#bbbbbb;background-color:#ffffff;font-size:11px;font-style:italic;text-align:right;\">Run this cell to load the macros LaTeX. </td></tr></table>\n",
        "$ \\newcommand{\\bra}[1]{\\langle #1|} $\n",
        "$ \\newcommand{\\ket}[1]{|#1\\rangle} $\n",
        "$ \\newcommand{\\braket}[2]{\\langle #1|#2\\rangle} $\n",
        "$ \\newcommand{\\dot}[2]{ #1 \\cdot #2} $\n",
        "$ \\newcommand{\\biginner}[2]{\\left\\langle #1,#2\\right\\rangle} $\n",
        "$ \\newcommand{\\mymatrix}[2]{\\left( \\begin{array}{#1} #2\\end{array} \\right)} $\n",
        "$ \\newcommand{\\myvector}[1]{\\mymatrix{c}{#1}} $\n",
        "$ \\newcommand{\\myrvector}[1]{\\mymatrix{r}{#1}} $\n",
        "$ \\newcommand{\\mypar}[1]{\\left( #1 \\right)} $\n",
        "$ \\newcommand{\\mybigpar}[1]{ \\Big( #1 \\Big)} $\n",
        "$ \\newcommand{\\sqrttwo}{\\frac{1}{\\sqrt{2}}} $\n",
        "$ \\newcommand{\\dsqrttwo}{\\dfrac{1}{\\sqrt{2}}} $\n",
        "$ \\newcommand{\\onehalf}{\\frac{1}{2}} $\n",
        "$ \\newcommand{\\donehalf}{\\dfrac{1}{2}} $\n",
        "$ \\newcommand{\\hadamard}{ \\mymatrix{rr}{ \\sqrttwo & \\sqrttwo \\\\ \\sqrttwo & -\\sqrttwo }} $\n",
        "$ \\newcommand{\\vzero}{\\myvector{1\\\\0}} $\n",
        "$ \\newcommand{\\vone}{\\myvector{0\\\\1}} $\n",
        "$ \\newcommand{\\vhadamardzero}{\\myvector{ \\sqrttwo \\\\  \\sqrttwo } } $\n",
        "$ \\newcommand{\\vhadamardone}{ \\myrvector{ \\sqrttwo \\\\ -\\sqrttwo } } $\n",
        "$ \\newcommand{\\myarray}[2]{ \\begin{array}{#1}#2\\end{array}} $\n",
        "$ \\newcommand{\\X}{ \\mymatrix{cc}{0 & 1 \\\\ 1 & 0}  } $\n",
        "$ \\newcommand{\\Z}{ \\mymatrix{rr}{1 & 0 \\\\ 0 & -1}  } $\n",
        "$ \\newcommand{\\Htwo}{ \\mymatrix{rrrr}{ \\frac{1}{2} & \\frac{1}{2} & \\frac{1}{2} & \\frac{1}{2} \\\\ \\frac{1}{2} & -\\frac{1}{2} & \\frac{1}{2} & -\\frac{1}{2} \\\\ \\frac{1}{2} & \\frac{1}{2} & -\\frac{1}{2} & -\\frac{1}{2} \\\\ \\frac{1}{2} & -\\frac{1}{2} & -\\frac{1}{2} & \\frac{1}{2} } } $\n",
        "$ \\newcommand{\\CNOT}{ \\mymatrix{cccc}{1 & 0 & 0 & 0 \\\\ 0 & 1 & 0 & 0 \\\\ 0 & 0 & 0 & 1 \\\\ 0 & 0 & 1 & 0} } $\n",
        "$ \\newcommand{\\norm}[1]{ \\left\\lVert #1 \\right\\rVert } $"
      ]
    },
    {
      "cell_type": "markdown",
      "metadata": {
        "id": "kkS1xGdqUgt0"
      },
      "source": [
        "<h3> Four operators </h3>\n",
        "\n",
        "How many different operators can be defined on a single bit?\n",
        "\n",
        "<i>An operator, depending on the current state of the bit, updates the state of bit (the result may be the same state).</i> \n",
        "\n",
        "We can apply four different operators to a single bit:\n",
        "<ol>\n",
        "    <li> Identity: $ I(0) = 0 $ and $ I(1) = 1 $ </li>\n",
        "    <li> Negation: $ NOT(0) = 1 $ and $ NOT(1) = 0 $ </li>\n",
        "    <li> Constant (Zero): $ ZERO(0) = 0 $ and $ ZERO(1) = 0 $ </li>\n",
        "    <li> Constant (One): $ ONE(0) = 1 $ and $ ONE(1) = 1 $ </li>\n",
        "</ol>\n",
        "The first operator is called IDENTITY, because it does not change the content/value of the bit.\n",
        "\n",
        "The second operator is named NOT, because it negates (flips) the value of bit. \n",
        "\n",
        "<i>Remark that 0 and 1 also refer to Boolean values False and True, respectively, and, False is the negation of True, and True is the negation of False.</i>\n",
        "\n",
        "The third (resp., fourth) operator returns a constant value 0 (resp., 1), whatever the input is."
      ]
    },
    {
      "cell_type": "code",
      "metadata": {
        "id": "N7lVEPiVYRXc"
      },
      "source": [
        "#!pip install qiskit\n",
        "#!pip install pylatexenc # draw\n",
        "#!pip install qiskit --upgrade"
      ],
      "execution_count": null,
      "outputs": []
    },
    {
      "cell_type": "code",
      "metadata": {
        "id": "2z-ist5VSEKM"
      },
      "source": [
        "from qiskit import QuantumRegister, ClassicalRegister, QuantumCircuit, execute, Aer\n",
        "from qiskit.quantum_info import Statevector\n",
        "from qiskit.tools.visualization import plot_histogram\n",
        "%matplotlib inline"
      ],
      "execution_count": null,
      "outputs": []
    },
    {
      "cell_type": "markdown",
      "metadata": {
        "id": "lSTlGFIJzDG4"
      },
      "source": [
        "Initialize 1 qubit register (qr)  and classical bit (cr) register to read them out"
      ]
    },
    {
      "cell_type": "code",
      "metadata": {
        "id": "-qSbISG3xwlT"
      },
      "source": [
        "qr = QuantumRegister(1, 'qi')\n",
        "cr = ClassicalRegister(1)"
      ],
      "execution_count": null,
      "outputs": []
    },
    {
      "cell_type": "markdown",
      "metadata": {
        "id": "_EmTjFe7X8uW"
      },
      "source": [
        "Build the circuit: single qbit"
      ]
    },
    {
      "cell_type": "code",
      "metadata": {
        "id": "Jl_aGTGVX8LD"
      },
      "source": [
        "circuit_q = QuantumCircuit(qr, cr)"
      ],
      "execution_count": null,
      "outputs": []
    },
    {
      "cell_type": "code",
      "metadata": {
        "colab": {
          "base_uri": "https://localhost:8080/",
          "height": 94
        },
        "id": "i1yQRrrIX7Wn",
        "outputId": "0c0304fa-5b41-4572-fa5a-81a7934653ff"
      },
      "source": [
        "circuit_q.draw()"
      ],
      "execution_count": null,
      "outputs": [
        {
          "output_type": "execute_result",
          "data": {
            "text/html": [
              "<pre style=\"word-wrap: normal;white-space: pre;background: #fff0;line-height: 1.1;font-family: &quot;Courier New&quot;,Courier,monospace\">      \n",
              "qi_0: \n",
              "      \n",
              "c0: 1/\n",
              "      </pre>"
            ],
            "text/plain": [
              "      \n",
              "qi_0: \n",
              "      \n",
              "c0: 1/\n",
              "      "
            ]
          },
          "metadata": {
            "tags": []
          },
          "execution_count": 8
        }
      ]
    },
    {
      "cell_type": "markdown",
      "metadata": {
        "id": "jqzFX--CZSks"
      },
      "source": [
        "## Gate\n",
        "Apply any gate: measure\n",
        "\n",
        "1.   List item\n",
        "2.   List item\n",
        "\n"
      ]
    },
    {
      "cell_type": "code",
      "metadata": {
        "colab": {
          "base_uri": "https://localhost:8080/"
        },
        "id": "AZdvgdj7ZQtz",
        "outputId": "e479c129-6585-4e29-f9f5-5327a7c1a7af"
      },
      "source": [
        "circuit_q.measure(qr, cr)"
      ],
      "execution_count": null,
      "outputs": [
        {
          "output_type": "execute_result",
          "data": {
            "text/plain": [
              "<qiskit.circuit.instructionset.InstructionSet at 0x7fa17202a350>"
            ]
          },
          "metadata": {
            "tags": []
          },
          "execution_count": 9
        }
      ]
    },
    {
      "cell_type": "markdown",
      "metadata": {
        "id": "lOXq1fXfZa-y"
      },
      "source": [
        "and draw"
      ]
    },
    {
      "cell_type": "code",
      "metadata": {
        "colab": {
          "base_uri": "https://localhost:8080/",
          "height": 94
        },
        "id": "4CxFaYhrZZbd",
        "outputId": "40b12d9a-76b6-48e3-b1b5-dc978b351729"
      },
      "source": [
        "circuit_q.draw()"
      ],
      "execution_count": null,
      "outputs": [
        {
          "output_type": "execute_result",
          "data": {
            "text/html": [
              "<pre style=\"word-wrap: normal;white-space: pre;background: #fff0;line-height: 1.1;font-family: &quot;Courier New&quot;,Courier,monospace\">      ┌─┐\n",
              "qi_0: ┤M├\n",
              "      └╥┘\n",
              "c0: 1/═╩═\n",
              "       0 </pre>"
            ],
            "text/plain": [
              "      ┌─┐\n",
              "qi_0: ┤M├\n",
              "      └╥┘\n",
              "c0: 1/═╩═\n",
              "       0 "
            ]
          },
          "metadata": {
            "tags": []
          },
          "execution_count": 10
        }
      ]
    },
    {
      "cell_type": "markdown",
      "metadata": {
        "id": "31_i0WE7zm-a"
      },
      "source": [
        "## Introduce a other gate\n",
        "### Exercise 1\n",
        "Go to the previuous part and put other gate"
      ]
    },
    {
      "cell_type": "markdown",
      "metadata": {
        "id": "9-zm-FuqkQVp"
      },
      "source": [
        "**Click here to check one solution**\n",
        "<!--\n",
        "circuit_q.h(qr[0])\n",
        "circuit_q.x(qr[0])\n",
        "circuit_q.cu1\n",
        "-->"
      ]
    },
    {
      "cell_type": "code",
      "metadata": {
        "id": "wFNrkb_LDxnp"
      },
      "source": [
        ""
      ],
      "execution_count": null,
      "outputs": []
    }
  ]
}